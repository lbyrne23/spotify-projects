{
 "cells": [
  {
   "cell_type": "code",
   "execution_count": null,
   "metadata": {},
   "outputs": [],
   "source": [
    "### This notebook depends on you having a spotify developer account\n",
    "### I started with this site https://developer.spotify.com/documentation/general/guides/authorization-guide/ \n",
    "### and then lots of stackoverflow posts to get it working\n",
    "\n",
    "import shutil\n",
    "import os\n",
    "import random\n",
    "import spotipy\n",
    "import spotipy.util as util\n",
    "from spotipy.oauth2 import SpotifyClientCredentials\n",
    "import spotipy.oauth2 as oauth2\n",
    "import pandas as pd\n",
    "# ^ some of these are unecessary and are leftover from other uses\n",
    "\n",
    "#where to search for songs\n",
    "market = [ \"AD\", \"AR\", \"AT\", \"AU\", \"BE\", \"BG\", \"BO\", \"BR\", \"CA\", \"CH\", \"CL\", \"CO\", \"CR\", \"CY\", \n",
    "      \"CZ\", \"DE\", \"DK\", \"DO\", \"EC\", \"EE\", \"ES\", \"FI\", \"FR\", \"GB\", \"GR\", \"GT\", \"HK\", \"HN\", \"HU\", \n",
    "      \"ID\", \"IE\", \"IS\", \"IT\", \"JP\", \"LI\", \"LT\", \"LU\", \"LV\", \"MC\", \"MT\", \"MX\", \"MY\", \"NI\", \"NL\", \n",
    "      \"NO\", \"NZ\", \"PA\", \"PE\", \"PH\", \"PL\", \"PT\", \"PY\", \"SE\", \"SG\", \"SK\", \"SV\", \"TH\", \"TR\", \"TW\", \n",
    "      \"US\", \"UY\", \"VN\" ]\n",
    "\n",
    "CLIENT_ID = \"{type your client ID here}\"\n",
    "CLIENT_SECRET = \"{type your client secret ID here}\"\n",
    "username = 'your spotify user ID'\n",
    "scope = 'user-top-read user-library-read playlist-modify-public playlist-modify-private playlist-read-private '\n",
    "redirect_uri = '{type your redirect uri here}'\n",
    "\n",
    "token = util.prompt_for_user_token(username=username,scope=scope,client_id=CLIENT_ID,client_secret=CLIENT_SECRET,redirect_uri=redirect_uri)\n",
    "sp = spotipy.Spotify(auth=token)"
   ]
  },
  {
   "cell_type": "code",
   "execution_count": null,
   "metadata": {},
   "outputs": [],
   "source": [
    "### Top Albums according to Saved/Liked Songs\n",
    "\n",
    "master_uri = []\n",
    "for i in range(0, 3000, 50): #API allows you to get 50 songs at a time, so retrieve 50 multiple times\n",
    "    try:\n",
    "        results = sp.current_user_saved_tracks(50,i)\n",
    "        for item in results['items']:\n",
    "            master_uri.append(item['track']['album']['uri']) #append the album uri of track to the master list\n",
    "    except:\n",
    "        continue\n",
    "\n",
    "# convert list of albums to a series and get top 5 most common appearances, print urls of top albums\n",
    "s = pd.Series(master_uri)\n",
    "s.groupby(s).size().sort_values(ascending=False)[:5]"
   ]
  },
  {
   "cell_type": "code",
   "execution_count": null,
   "metadata": {},
   "outputs": [],
   "source": [
    "### Top albums according to songs in playlists (maximum 50 playlists analysed)\n",
    "\n",
    "albums = []\n",
    "playlists = sp.user_playlists(username, limit=50, offset=0) #retrieve playlists\n",
    "\n",
    "for item in playlists['items']:\n",
    "    tracks = sp.user_playlist_tracks(username, item['uri']) #get track uri\n",
    "    for item in tracks['items']:\n",
    "        try:\n",
    "            albums.append(sp.track(item['track']['uri'])['album']['uri']) #get album uri of that track and record\n",
    "        except:\n",
    "            continue\n",
    "            \n",
    "#convert list of albums to series, find 5 most common and print results\n",
    "al = pd.Series(albums)\n",
    "df = pd.DataFrame(al.groupby(al).size().sort_values(ascending=False)[:5])\n",
    "for item in list(df.index):\n",
    "    print(sp.album(item)['name'], '-', sp.album(item)['artists'][0]['name'])"
   ]
  }
 ],
 "metadata": {
  "kernelspec": {
   "display_name": "Python 3",
   "language": "python",
   "name": "python3"
  },
  "language_info": {
   "codemirror_mode": {
    "name": "ipython",
    "version": 3
   },
   "file_extension": ".py",
   "mimetype": "text/x-python",
   "name": "python",
   "nbconvert_exporter": "python",
   "pygments_lexer": "ipython3",
   "version": "3.6.4"
  }
 },
 "nbformat": 4,
 "nbformat_minor": 2
}
