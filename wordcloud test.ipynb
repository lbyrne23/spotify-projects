{
 "cells": [
  {
   "cell_type": "code",
   "execution_count": null,
   "metadata": {},
   "outputs": [],
   "source": [
    "import spotipy\n",
    "import spotipy.util as util\n",
    "from spotipy.oauth2 import SpotifyClientCredentials\n",
    "import spotipy.oauth2 as oauth2\n",
    "from collections import Counter\n",
    "from wordcloud import WordCloud\n",
    "import matplotlib.pyplot as plt\n",
    "%matplotlib inline\n",
    "\n",
    "username = input(\"User URI\")\n",
    "#\"1171034318\"\n",
    "chosen_playlist = input(\"Playlist URI\")\n",
    "\n",
    "#where to search for songs\n",
    "market = [ \"AD\", \"AR\", \"AT\", \"AU\", \"BE\", \"BG\", \"BO\", \"BR\", \"CA\", \"CH\", \"CL\", \"CO\", \"CR\", \"CY\", \n",
    "      \"CZ\", \"DE\", \"DK\", \"DO\", \"EC\", \"EE\", \"ES\", \"FI\", \"FR\", \"GB\", \"GR\", \"GT\", \"HK\", \"HN\", \"HU\", \n",
    "      \"ID\", \"IE\", \"IS\", \"IT\", \"JP\", \"LI\", \"LT\", \"LU\", \"LV\", \"MC\", \"MT\", \"MX\", \"MY\", \"NI\", \"NL\", \n",
    "      \"NO\", \"NZ\", \"PA\", \"PE\", \"PH\", \"PL\", \"PT\", \"PY\", \"SE\", \"SG\", \"SK\", \"SV\", \"TH\", \"TR\", \"TW\", \n",
    "      \"US\", \"UY\", \"VN\" ]\n",
    "\n",
    "# insert credentials here\n",
    "CLIENT_ID = \"07c412dde09046108574a6f32f8f2ecc\"\n",
    "CLIENT_SECRET = \"d41a6faaa5ba412a8eb76c2b9fef8e64\"\n",
    "username = \"1171034318\"\n",
    "scope = 'user-top-read user-library-read playlist-modify-public playlist-modify-private playlist-read-private'\n",
    "redirect_uri = 'http://mysite.com/callback/'\n",
    "\n",
    "token = util.prompt_for_user_token(username=username,scope=scope,client_id=CLIENT_ID,client_secret=CLIENT_SECRET,redirect_uri=redirect_uri)\n",
    "sp = spotipy.Spotify(auth=token)\n",
    "\n",
    "# replace the xxxx here with your spotify playlist URI (Go to playlist > share > copy Spotify URI)\n",
    "tracks = sp.playlist_tracks(chosen_playlist, fields=None, limit=100)['items']\n",
    "\n",
    "genres = []\n",
    "\n",
    "for item in tracks:\n",
    "    artist_genres = sp.artist(item['track']['artists'][0]['id'])['genres']\n",
    "    for genre in artist_genres:\n",
    "        genres.append(genre)\n",
    "\n",
    "wordcloud = WordCloud(font_path='arial', width=1600, height=800).generate_from_frequencies(Counter(genres))\n",
    "plt.figure(figsize=(20,10), facecolor='k')\n",
    "plt.imshow(wordcloud, interpolation=\"bilinear\")\n",
    "plt.axis(\"off\")\n",
    "plt.show()"
   ]
  }
 ],
 "metadata": {
  "kernelspec": {
   "display_name": "Python 3",
   "language": "python",
   "name": "python3"
  },
  "language_info": {
   "codemirror_mode": {
    "name": "ipython",
    "version": 3
   },
   "file_extension": ".py",
   "mimetype": "text/x-python",
   "name": "python",
   "nbconvert_exporter": "python",
   "pygments_lexer": "ipython3",
   "version": "3.8.3"
  }
 },
 "nbformat": 4,
 "nbformat_minor": 4
}
